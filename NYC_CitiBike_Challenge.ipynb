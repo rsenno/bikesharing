{
 "cells": [
  {
   "cell_type": "code",
   "execution_count": 1,
   "metadata": {},
   "outputs": [],
   "source": [
    "import pandas as pd\n",
    "import datetime"
   ]
  },
  {
   "cell_type": "code",
   "execution_count": 2,
   "metadata": {},
   "outputs": [
    {
     "name": "stdout",
     "output_type": "stream",
     "text": [
      "   tripduration                 starttime                  stoptime  \\\n",
      "0           393  2019-08-01 00:00:01.4680  2019-08-01 00:06:35.3780   \n",
      "1           627  2019-08-01 00:00:01.9290  2019-08-01 00:10:29.7840   \n",
      "2          1132  2019-08-01 00:00:04.0480  2019-08-01 00:18:56.1650   \n",
      "3          1780  2019-08-01 00:00:04.1630  2019-08-01 00:29:44.7940   \n",
      "4          1517  2019-08-01 00:00:05.4580  2019-08-01 00:25:23.4550   \n",
      "5           632  2019-08-01 00:00:11.8060  2019-08-01 00:10:43.9590   \n",
      "6           117  2019-08-01 00:00:18.2010  2019-08-01 00:02:15.8600   \n",
      "7           378  2019-08-01 00:00:22.0840  2019-08-01 00:06:40.9350   \n",
      "8          1102  2019-08-01 00:00:22.0870  2019-08-01 00:18:44.3890   \n",
      "9          1733  2019-08-01 00:00:22.5580  2019-08-01 00:29:15.9080   \n",
      "\n",
      "   start station id              start station name  start station latitude  \\\n",
      "0             531.0          Forsyth St & Broome St               40.718939   \n",
      "1             274.0  Lafayette Ave & Fort Greene Pl               40.686919   \n",
      "2            2000.0        Front St & Washington St               40.702551   \n",
      "3             479.0                 9 Ave & W 45 St               40.760193   \n",
      "4            3312.0                 1 Ave & E 94 St               40.781721   \n",
      "5             173.0              Broadway & W 49 St               40.760683   \n",
      "6            3718.0              E 11 St & Avenue B               40.727464   \n",
      "7             493.0                 W 45 St & 6 Ave               40.756800   \n",
      "8             355.0           Bayard St & Baxter St               40.716021   \n",
      "9             513.0                W 56 St & 10 Ave               40.768254   \n",
      "\n",
      "   start station longitude  end station id            end station name  \\\n",
      "0               -73.992663           408.0       Market St & Cherry St   \n",
      "1               -73.976682          3409.0        Bergen St & Smith St   \n",
      "2               -73.989402          3388.0     President St & Henry St   \n",
      "3               -73.991255           473.0  Rivington St & Chrystie St   \n",
      "4               -73.945940          3312.0             1 Ave & E 94 St   \n",
      "5               -73.984527          3707.0     Lexington Ave & E 26 St   \n",
      "6               -73.979504           326.0             E 11 St & 1 Ave   \n",
      "7               -73.982912          3724.0  7 Ave & Central Park South   \n",
      "8               -73.999744          3232.0         Bond St & Fulton St   \n",
      "9               -73.988639           469.0          Broadway & W 53 St   \n",
      "\n",
      "   end station latitude  end station longitude  bikeid    usertype  \\\n",
      "0             40.710762             -73.994004   35305  Subscriber   \n",
      "1             40.686744             -73.990632   38822  Subscriber   \n",
      "2             40.682800             -73.999904   18373  Subscriber   \n",
      "3             40.721101             -73.991925   25002  Subscriber   \n",
      "4             40.781721             -73.945940   31198  Subscriber   \n",
      "5             40.741459             -73.983293   21628  Subscriber   \n",
      "6             40.729538             -73.984267   25914  Subscriber   \n",
      "7             40.766741             -73.979069   34414  Subscriber   \n",
      "8             40.689622             -73.983043   28226  Subscriber   \n",
      "9             40.763441             -73.982681   33448    Customer   \n",
      "\n",
      "   birth year  gender  \n",
      "0        1996       2  \n",
      "1        1998       2  \n",
      "2        1988       1  \n",
      "3        1988       1  \n",
      "4        1965       2  \n",
      "5        1998       1  \n",
      "6        1995       1  \n",
      "7        1999       1  \n",
      "8        1992       1  \n",
      "9        1968       1  \n"
     ]
    }
   ],
   "source": [
    "# 1. Create a DataFrame for the 201908-citibike-tripdata data. \n",
    "df = pd.read_csv(\"201908-citibike-tripdata.csv\")\n",
    "print(df.head(10))"
   ]
  },
  {
   "cell_type": "code",
   "execution_count": 3,
   "metadata": {},
   "outputs": [
    {
     "data": {
      "text/plain": [
       "tripduration                 int64\n",
       "starttime                   object\n",
       "stoptime                    object\n",
       "start station id           float64\n",
       "start station name          object\n",
       "start station latitude     float64\n",
       "start station longitude    float64\n",
       "end station id             float64\n",
       "end station name            object\n",
       "end station latitude       float64\n",
       "end station longitude      float64\n",
       "bikeid                       int64\n",
       "usertype                    object\n",
       "birth year                   int64\n",
       "gender                       int64\n",
       "dtype: object"
      ]
     },
     "execution_count": 3,
     "metadata": {},
     "output_type": "execute_result"
    }
   ],
   "source": [
    "# 2. Check the datatypes of your columns. \n",
    "df.dtypes"
   ]
  },
  {
   "cell_type": "code",
   "execution_count": 4,
   "metadata": {},
   "outputs": [
    {
     "name": "stdout",
     "output_type": "stream",
     "text": [
      "   tripduration                 starttime                  stoptime  \\\n",
      "0           393  2019-08-01 00:00:01.4680  2019-08-01 00:06:35.3780   \n",
      "1           627  2019-08-01 00:00:01.9290  2019-08-01 00:10:29.7840   \n",
      "2          1132  2019-08-01 00:00:04.0480  2019-08-01 00:18:56.1650   \n",
      "3          1780  2019-08-01 00:00:04.1630  2019-08-01 00:29:44.7940   \n",
      "4          1517  2019-08-01 00:00:05.4580  2019-08-01 00:25:23.4550   \n",
      "5           632  2019-08-01 00:00:11.8060  2019-08-01 00:10:43.9590   \n",
      "6           117  2019-08-01 00:00:18.2010  2019-08-01 00:02:15.8600   \n",
      "7           378  2019-08-01 00:00:22.0840  2019-08-01 00:06:40.9350   \n",
      "8          1102  2019-08-01 00:00:22.0870  2019-08-01 00:18:44.3890   \n",
      "9          1733  2019-08-01 00:00:22.5580  2019-08-01 00:29:15.9080   \n",
      "\n",
      "   start station id              start station name  start station latitude  \\\n",
      "0             531.0          Forsyth St & Broome St               40.718939   \n",
      "1             274.0  Lafayette Ave & Fort Greene Pl               40.686919   \n",
      "2            2000.0        Front St & Washington St               40.702551   \n",
      "3             479.0                 9 Ave & W 45 St               40.760193   \n",
      "4            3312.0                 1 Ave & E 94 St               40.781721   \n",
      "5             173.0              Broadway & W 49 St               40.760683   \n",
      "6            3718.0              E 11 St & Avenue B               40.727464   \n",
      "7             493.0                 W 45 St & 6 Ave               40.756800   \n",
      "8             355.0           Bayard St & Baxter St               40.716021   \n",
      "9             513.0                W 56 St & 10 Ave               40.768254   \n",
      "\n",
      "   start station longitude  end station id            end station name  \\\n",
      "0               -73.992663           408.0       Market St & Cherry St   \n",
      "1               -73.976682          3409.0        Bergen St & Smith St   \n",
      "2               -73.989402          3388.0     President St & Henry St   \n",
      "3               -73.991255           473.0  Rivington St & Chrystie St   \n",
      "4               -73.945940          3312.0             1 Ave & E 94 St   \n",
      "5               -73.984527          3707.0     Lexington Ave & E 26 St   \n",
      "6               -73.979504           326.0             E 11 St & 1 Ave   \n",
      "7               -73.982912          3724.0  7 Ave & Central Park South   \n",
      "8               -73.999744          3232.0         Bond St & Fulton St   \n",
      "9               -73.988639           469.0          Broadway & W 53 St   \n",
      "\n",
      "   end station latitude  end station longitude  bikeid    usertype  \\\n",
      "0             40.710762             -73.994004   35305  Subscriber   \n",
      "1             40.686744             -73.990632   38822  Subscriber   \n",
      "2             40.682800             -73.999904   18373  Subscriber   \n",
      "3             40.721101             -73.991925   25002  Subscriber   \n",
      "4             40.781721             -73.945940   31198  Subscriber   \n",
      "5             40.741459             -73.983293   21628  Subscriber   \n",
      "6             40.729538             -73.984267   25914  Subscriber   \n",
      "7             40.766741             -73.979069   34414  Subscriber   \n",
      "8             40.689622             -73.983043   28226  Subscriber   \n",
      "9             40.763441             -73.982681   33448    Customer   \n",
      "\n",
      "   birth year  gender tripduration_td     tripduration_dt  \n",
      "0        1996       2 0 days 00:06:33 1970-01-01 00:06:33  \n",
      "1        1998       2 0 days 00:10:27 1970-01-01 00:10:27  \n",
      "2        1988       1 0 days 00:18:52 1970-01-01 00:18:52  \n",
      "3        1988       1 0 days 00:29:40 1970-01-01 00:29:40  \n",
      "4        1965       2 0 days 00:25:17 1970-01-01 00:25:17  \n",
      "5        1998       1 0 days 00:10:32 1970-01-01 00:10:32  \n",
      "6        1995       1 0 days 00:01:57 1970-01-01 00:01:57  \n",
      "7        1999       1 0 days 00:06:18 1970-01-01 00:06:18  \n",
      "8        1992       1 0 days 00:18:22 1970-01-01 00:18:22  \n",
      "9        1968       1 0 days 00:28:53 1970-01-01 00:28:53  \n"
     ]
    }
   ],
   "source": [
    "# 3. Convert the 'tripduration' column to datetime datatype.\n",
    "# Let's experiment here.  \n",
    "# First, put 'tripduration' into an array\n",
    "trip_duration_df = df[['tripduration']]\n",
    "# trip_duration_df\n",
    "# Next, convert it to datetime\n",
    "\n",
    "# How about time delta?\n",
    "trip_duration_td_df = trip_duration_df.astype('timedelta64[s]')\n",
    "# trip_duration_td_df\n",
    "\n",
    "# let's do both, and then see which works better. \n",
    "trip_duration_dt_df = pd.to_datetime(trip_duration_df['tripduration'], unit='s')\n",
    "# trip_duration_dt_df\n",
    "\n",
    "# Finally, add the new columns \n",
    "df['tripduration_td'] = trip_duration_td_df\n",
    "df['tripduration_dt'] = trip_duration_dt_df\n",
    "print(df.head(10))"
   ]
  },
  {
   "cell_type": "code",
   "execution_count": 5,
   "metadata": {},
   "outputs": [
    {
     "data": {
      "text/plain": [
       "tripduration                         int64\n",
       "starttime                           object\n",
       "stoptime                            object\n",
       "start station id                   float64\n",
       "start station name                  object\n",
       "start station latitude             float64\n",
       "start station longitude            float64\n",
       "end station id                     float64\n",
       "end station name                    object\n",
       "end station latitude               float64\n",
       "end station longitude              float64\n",
       "bikeid                               int64\n",
       "usertype                            object\n",
       "birth year                           int64\n",
       "gender                               int64\n",
       "tripduration_td            timedelta64[ns]\n",
       "tripduration_dt             datetime64[ns]\n",
       "dtype: object"
      ]
     },
     "execution_count": 5,
     "metadata": {},
     "output_type": "execute_result"
    }
   ],
   "source": [
    "# 4. Check the datatypes of your columns. \n",
    "df.dtypes"
   ]
  },
  {
   "cell_type": "code",
   "execution_count": 6,
   "metadata": {},
   "outputs": [],
   "source": [
    "# 5. Export the Dataframe as a new CSV file without the index.\n",
    "# df.to_csv(index=False)\n",
    "df.to_csv('201908-citibike-tripdata-mod.csv', index=False)"
   ]
  },
  {
   "cell_type": "code",
   "execution_count": null,
   "metadata": {},
   "outputs": [],
   "source": []
  }
 ],
 "metadata": {
  "kernelspec": {
   "display_name": "PythonData",
   "language": "python",
   "name": "pythondata"
  },
  "language_info": {
   "codemirror_mode": {
    "name": "ipython",
    "version": 3
   },
   "file_extension": ".py",
   "mimetype": "text/x-python",
   "name": "python",
   "nbconvert_exporter": "python",
   "pygments_lexer": "ipython3",
   "version": "3.7.9"
  }
 },
 "nbformat": 4,
 "nbformat_minor": 4
}
